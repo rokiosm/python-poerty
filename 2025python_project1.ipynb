{
 "cells": [
  {
   "cell_type": "code",
   "execution_count": 8,
   "id": "ef6bb989-a11e-448d-a87d-6743b352b7d1",
   "metadata": {},
   "outputs": [],
   "source": [
    "class Calculator:\n",
    "    def __init__(self):\n",
    "        self.result = 0 \n",
    "    def add(self, num): \n",
    "        self.result += num \n",
    "        return self.result \n",
    "        \n",
    "    def sub(self, num): \n",
    "        self.result -= num \n",
    "        return self.result\n",
    "\n",
    "    def mul(self, num): \n",
    "        self.result *= num \n",
    "        return self.result\n",
    "\n",
    "    def div(self, num): \n",
    "        self.result /= num \n",
    "        return self.result\n",
    "\n",
    "    def event()"
   ]
  },
  {
   "cell_type": "code",
   "execution_count": 2,
   "id": "58ae411e-3ded-4b6b-ab23-d776ee1a48df",
   "metadata": {},
   "outputs": [],
   "source": [
    "from tkinter import *\n",
    "#  예제 1) tkinter 파이썬 GUI 레이블(label)\n",
    "# tkinter를 사용하여 텍스트를 나타내보자\n",
    "\n",
    "# 1. 루트화면 (root window) 생성\n",
    "tk = Tk() \n",
    "# 2. 텍스트 표시\n",
    "label = Label(tk,text='Hello World!') \n",
    "# 3. 레이블 배치 실행\n",
    "label.pack()\n",
    "# 4. 메인루프 실행\n",
    "tk.mainloop()"
   ]
  },
  {
   "cell_type": "code",
   "execution_count": 1,
   "id": "83f48843-f783-4eb1-89d3-daabbf6b500d",
   "metadata": {},
   "outputs": [],
   "source": [
    "from tkinter import *\n",
    "tk = Tk() \n",
    "label = Label(tk, text= \"게산기\")\n",
    "\n",
    "def event():\n",
    "    button['text'] = '버튼 누름!'\n",
    "    \n",
    "    a = [x for x in range (0, 9) ] #배열 간단 "
   ]
  },
  {
   "cell_type": "code",
   "execution_count": null,
   "id": "8d51b1b2-12ac-4bbe-9af0-2c13addb3928",
   "metadata": {},
   "outputs": [],
   "source": []
  }
 ],
 "metadata": {
  "kernelspec": {
   "display_name": "py313",
   "language": "python",
   "name": "py313"
  },
  "language_info": {
   "codemirror_mode": {
    "name": "ipython",
    "version": 3
   },
   "file_extension": ".py",
   "mimetype": "text/x-python",
   "name": "python",
   "nbconvert_exporter": "python",
   "pygments_lexer": "ipython3",
   "version": "3.11.5"
  }
 },
 "nbformat": 4,
 "nbformat_minor": 5
}
